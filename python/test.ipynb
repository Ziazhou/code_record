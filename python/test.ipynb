{
 "cells": [
  {
   "cell_type": "code",
   "execution_count": null,
   "id": "92468617",
   "metadata": {},
   "outputs": [],
   "source": [
    "class LazyRecord:\n",
    "    def __init__(self):\n",
    "      self.exists = 5\n",
    "    \n",
    "    def __getattr__(self,name):\n",
    "      value = f'Value for {name}'\n",
    "      setattr(self,name,value)\n",
    "      return value\n",
    "\n",
    "class LoggingLazyRecord(LazyRecord):\n",
    "  def __getattr__(self, name):\n",
    "    print(f'* calling __getattr__({name})')\n",
    "    result = super().__getattr__(name)\n",
    "    print(f'* Returning {result}')\n",
    "    return result\n",
    "\n",
    "data = LoggingLazyRecord()\n",
    "print(data.__dict__)\n",
    "print(hasattr(data,'foo'))\n",
    "print(data.__dict__)\n",
    "print(hasattr(data,'foo'))\n"
   ]
  },
  {
   "cell_type": "code",
   "execution_count": null,
   "id": "33b27214",
   "metadata": {},
   "outputs": [],
   "source": [
    "class Validatingrecord:\n",
    "  def __init__(self):\n",
    "    self.exists = 5\n",
    "  \n",
    "  def __getattribute__(self, name):\n",
    "    print(f\"* Called  __getattribute__ with {name}\")\n",
    "    try:\n",
    "      value = super().__getattribute__(name)\n",
    "      print(f'* Found {name !r}, returning {value !r}')\n",
    "      return value\n",
    "    except AttributeError:\n",
    "      value = f'Value for {name}'\n",
    "      print(f'* setting {name !r} to  {value !r}')\n",
    "      setattr(self, name, value)\n",
    "      return value\n",
    "data = Validatingrecord()\n",
    "# print(data.exists)\n",
    "print(data.foo)\n",
    "print(data.foo)\n",
    "  "
   ]
  },
  {
   "cell_type": "code",
   "execution_count": null,
   "id": "28ae92fc",
   "metadata": {},
   "outputs": [],
   "source": [
    "class SavingRecord:\n",
    "  def __setattr__(self, name, value):\n",
    "    print(f'SavingRecord Called __setattr__ {name !r} to {value !r}')\n",
    "    super().__setattr__(name, value)\n",
    "\n",
    "class LoggingSavingRecord(SavingRecord):\n",
    "  def __setattr__(self, name, value):\n",
    "    print(f'LoggingSavingRecord Called __setattr__ {name !r} to {value !r}')\n",
    "    return super().__setattr__(name, value)\n",
    "\n",
    "data  = LoggingSavingRecord()\n",
    "print(data.__dict__)\n",
    "data.foo = 5\n",
    "print(data.__dict__)\n",
    "data.foo =7\n",
    "print(data.__dict__)"
   ]
  },
  {
   "cell_type": "code",
   "execution_count": null,
   "id": "523bbbf6",
   "metadata": {},
   "outputs": [],
   "source": [
    "class BrokenDictionaryRecord:\n",
    "  def __init__(self,data):\n",
    "    self._data = data\n",
    "  def __getattribute__(self, name):\n",
    "     print(f\"* Called  __getattribute__ with {name}\")\n",
    "     result = super().__getattribute__('_data')\n",
    "     return result[name]\n",
    "\n",
    "data = BrokenDictionaryRecord({'foo':3})\n",
    "data.foo\n",
    "    "
   ]
  },
  {
   "cell_type": "code",
   "execution_count": null,
   "id": "6f445fda",
   "metadata": {},
   "outputs": [],
   "source": [
    "class Meta(type):\n",
    "  def __new__(cls,name,basses,class_dict):\n",
    "    print(f'Running {cls}.__new__ for {name}')\n",
    "    print('Basses',basses)\n",
    "    print(class_dict)\n",
    "    return type.__new__(cls,name,basses,class_dict)\n",
    "  \n",
    "class Myclass(metaclass=Meta):\n",
    "  print('test')\n",
    "  stuff = 123\n",
    "  def foo(self):\n",
    "    pass\n",
    "\n",
    "\n",
    "class Mysubclass(Myclass):\n",
    "  print('test1')\n",
    "  other = 567\n",
    "  \n",
    "  def bar(self):\n",
    "    pass\n",
    "    "
   ]
  },
  {
   "cell_type": "code",
   "execution_count": null,
   "id": "207846ad",
   "metadata": {},
   "outputs": [],
   "source": [
    "class ValidatePolygon(type):\n",
    "  def __new__(cls, name, bases, class_dict):\n",
    "    if bases:\n",
    "      if class_dict['sides'] < 3:\n",
    "        raise ValueError('polyron need 3+ sides')\n",
    "    return type.__new__(cls, name, bases, class_dict)\n",
    "\n",
    "class polygon(metaclass=ValidatePolygon):\n",
    "  \n",
    "  sides = None\n",
    "  @classmethod\n",
    "  def interior_angles(cls):\n",
    "    return (cls.sides - 2) * 180\n",
    "  \n",
    "\n",
    "class Triangle(polygon):\n",
    "  sides = 3\n",
    "  \n",
    "class Rectangle(polygon):\n",
    "  sides = 4\n",
    "  \n",
    "class Nonagon(polygon):\n",
    "  sides = 9\n",
    "  \n",
    "\n",
    "\n",
    "assert Triangle.interior_angles() == 180\n",
    "assert Rectangle.interior_angles() == 360\n",
    "assert Nonagon.interior_angles() == 1260 "
   ]
  },
  {
   "cell_type": "code",
   "execution_count": null,
   "id": "036f9e09",
   "metadata": {},
   "outputs": [],
   "source": [
    "class BetterPolygon:\n",
    "  sides = None\n",
    "  \n",
    "  def __init_subclass__(cls):\n",
    "    super().__init_subclass__()\n",
    "    if cls.sides <3:\n",
    "      raise ValueError('Polygons need 3+ sides')\n",
    "  \n",
    "  @classmethod\n",
    "  def internal_angle(cls):\n",
    "    return (cls.sides - 2) * 180\n",
    "\n",
    "class Hexagon(BetterPolygon):\n",
    "  sides = 6\n",
    "  \n",
    "assert Hexagon.internal_angle() == 120"
   ]
  },
  {
   "cell_type": "code",
   "execution_count": null,
   "id": "cd3f1fed",
   "metadata": {},
   "outputs": [],
   "source": [
    "class ValidatePolygon(type):\n",
    "  def __new__(cls, name, bases, class_dict):\n",
    "    if bases:\n",
    "      if class_dict['sides'] < 3:\n",
    "        raise ValueError('polyron need 3+ sides')\n",
    "    return type.__new__(cls, name, bases, class_dict)\n",
    "\n",
    "class polygon(metaclass=ValidatePolygon):\n",
    "  sides = None\n",
    "  @classmethod\n",
    "  def interior_angles(cls):\n",
    "    return (cls.sides - 2) * 180\n",
    "  \n",
    "class ValidateFill(type):\n",
    "  def __new__(cls, name, bases, attrs):\n",
    "    if bases:\n",
    "      if attrs['color'] not in ['red','green']:\n",
    "        raise ValueError('Fill color must be supportesd')\n",
    "    return type.__new__(cls, name, bases, attrs)\n",
    "\n",
    "class Filled(metaclass=ValidateFill):\n",
    "  color = None\n",
    "\n",
    "class RedFilled(Filled,polygon):\n",
    "  color = 'red'\n",
    "  sides = 5\n"
   ]
  },
  {
   "cell_type": "code",
   "execution_count": null,
   "id": "89f929b2",
   "metadata": {},
   "outputs": [],
   "source": [
    "class ValidatePolygon(type):\n",
    "  def __new__(cls, name, bases, class_dict):\n",
    "    if not class_dict.get('is_root'):\n",
    "      if class_dict['sides'] < 3:\n",
    "        raise ValueError('polyron need 3+ sides')\n",
    "    return type.__new__(cls, name, bases, class_dict)\n",
    "  \n",
    "class Polygon(metaclass=ValidatePolygon):\n",
    "  \n",
    "  is_root = True\n",
    "  sides = None\n",
    "\n",
    "\n",
    "class ValidateFilledPolygon(ValidatePolygon):\n",
    "  def __new__(cls, name, bases, class_dict):\n",
    "    if not class_dict.get('is_root'):\n",
    "      if class_dict['color'] not in ('red','green'):\n",
    "        raise ValueError('Fill color must be supported')\n",
    "    return super().__new__(cls, name, bases, class_dict)\n",
    "\n",
    "class FilledPolygon(Polygon,metaclass=ValidateFilledPolygon):\n",
    "  is_root = True\n",
    "  color = None\n",
    "  \n",
    "class GreenPentagon(FilledPolygon):\n",
    "  color = 'green'\n",
    "  sides = 5\n",
    "\n",
    "greenie = GreenPentagon()\n",
    "assert isinstance(greenie, Polygon)\n",
    "\n",
    "class OrangePentagon(FilledPolygon):\n",
    "  color = 'orange'\n",
    "  sides = 5"
   ]
  },
  {
   "cell_type": "code",
   "execution_count": null,
   "id": "3d540cb6",
   "metadata": {},
   "outputs": [],
   "source": [
    "class BetterPolygon:\n",
    "  sides = None\n",
    "  \n",
    "  def __init_subclass__(cls):\n",
    "    super().__init_subclass__()\n",
    "    if cls.sides <3:\n",
    "      raise ValueError('Polygons need 3+ sides')\n",
    "  \n",
    "  @classmethod\n",
    "  def internal_angle(cls):\n",
    "    return (cls.sides - 2) * 180\n",
    "\n",
    "class Filled:\n",
    "  color = 'red'\n",
    "  \n",
    "  def __init_subclass__(cls):\n",
    "    super().__init_subclass__()\n",
    "    if cls.color not in ('red', 'blue', 'green'):\n",
    "      raise ValueError('Invalid color')\n",
    "\n",
    "class RedTriangle(Filled,BetterPolygon):\n",
    "  color = 'red'\n",
    "  sides = 3\n",
    "\n",
    "ruddy = RedTriangle()\n",
    "assert isinstance(ruddy, Filled)\n",
    "assert isinstance(ruddy, BetterPolygon)"
   ]
  },
  {
   "cell_type": "code",
   "execution_count": null,
   "id": "7a8a12ff",
   "metadata": {},
   "outputs": [],
   "source": [
    "\n",
    "class Top:\n",
    "  def __init_subclass__(cls):\n",
    "    super().__init_subclass__()\n",
    "    print(f'Top for {cls}')\n",
    "\n",
    "class Left(Top):\n",
    "  def __init_subclass__(cls):\n",
    "    super().__init_subclass__()\n",
    "    print(f'Left for {cls}')\n",
    "\n",
    "class Right(Top):\n",
    "  def __init_subclass__(cls):\n",
    "    super().__init_subclass__()\n",
    "    print(f'Right for {cls}')\n",
    "\n",
    "class Bottom(Left,Right):\n",
    "  def __init_subclass__(cls):\n",
    "    super().__init_subclass__()\n",
    "    print(f'Bottom for {cls}')\n",
    "    \n",
    "print(Bottom.__mro__)\n"
   ]
  },
  {
   "cell_type": "code",
   "execution_count": null,
   "id": "c77a310e",
   "metadata": {},
   "outputs": [],
   "source": [
    "import json\n",
    "class Serializable:\n",
    "  def __init__(self,*args):\n",
    "    self.args = args\n",
    "  \n",
    "  def serialize(self):\n",
    "    return json.dumps({'args':self.args})\n",
    "\n",
    "class Point2D(Serializable):\n",
    "  def __init__(self,x,y):\n",
    "    super().__init__(x,y)\n",
    "    self.x = x\n",
    "    self.y = y\n",
    "  \n",
    "  def __repr__(self):\n",
    "    return f'Pont2D({self.x},{self.y})'\n",
    "\n",
    "\n",
    "class Deserializable(Serializable):\n",
    "  @classmethod\n",
    "  def deserialize(cls,json_data):\n",
    "    params = json.loads(json_data)\n",
    "    return cls(*params['args'])\n",
    "  \n",
    "class BetterPont2D(Deserializable):\n",
    "  def __init__(self,x,y):\n",
    "    super().__init__(x, y)\n",
    "    self.x = x\n",
    "    self.y = y\n",
    "  \n",
    "  def __repr__(self):\n",
    "    return f'Pont2D({self.x},{self.y})'\n",
    "\n",
    "\n",
    "before = BetterPont2D(5,3)\n",
    "print(before)\n",
    "data = before.serialize()\n",
    "print(data)\n",
    "after = BetterPont2D.deserialize(data)\n",
    "print(after)"
   ]
  },
  {
   "cell_type": "code",
   "execution_count": null,
   "id": "f92e0c51",
   "metadata": {},
   "outputs": [],
   "source": [
    "class BetterSerializable:\n",
    "  def __init__(self,*args):\n",
    "    self.args = args\n",
    "  \n",
    "  def serialize(self):\n",
    "    return json.dumps({\n",
    "      \"class\": self.__class__.__name__,\n",
    "      \"args\": self.args\n",
    "    })\n",
    "  \n",
    "  def __repr__(self):\n",
    "    name = self.__class__.__name__\n",
    "    args_str = ','.join(str(x) for x in self.args)\n",
    "    return f\"{name}({args_str})\"\n",
    "\n",
    "registry = {}\n",
    "\n",
    "def register_class(traget_class):\n",
    "  registry[traget_class.__name__] = traget_class\n",
    "\n",
    "def deserialize(data):\n",
    "  params = json.loads(data)\n",
    "  name = params['class']\n",
    "  target_class = registry[name]\n",
    "  return target_class(*params['args'])\n",
    "\n",
    "class EvenBetterPoint2D(BetterSerializable):\n",
    "    def __init__(self,x,y):\n",
    "      super().__init__(x, y)\n",
    "      self.x = x\n",
    "      self.y = y\n",
    "      \n",
    "register_class(EvenBetterPoint2D)\n",
    "\n",
    "before = EvenBetterPoint2D(1,2)\n",
    "print(before)\n",
    "\n",
    "data =before.serialize()\n",
    "print(data)\n",
    "\n",
    "after = deserialize(data)\n",
    "print(after)"
   ]
  },
  {
   "cell_type": "code",
   "execution_count": null,
   "id": "6aecc339",
   "metadata": {},
   "outputs": [],
   "source": [
    "# class Filed:\n",
    "#   def __init__(self,name):\n",
    "#     self.name = name\n",
    "#     self.internal_name = '_' + self.name\n",
    "  \n",
    "#   def __get__(self,instance,instance_type):\n",
    "#     if instance is None:\n",
    "#       return self\n",
    "#     return getattr(instance,self.internal_name,'')\n",
    "  \n",
    "#   def __set__(self,instance,value):\n",
    "#     setattr(instance,self.internal_name,value)\n",
    "    \n",
    "# class Customer:\n",
    "#   first_name = Filed('first_name')\n",
    "#   last_name = Filed('last_name')\n",
    "#   prefix  = Filed('prefix')\n",
    "#   suffix = Filed('suffix')\n",
    "\n",
    "# cust = Customer()\n",
    "# print(f'{cust.first_name !r}{cust.__dict__}')\n",
    "# print(f'{cust.first_name !r}{cust.__dict__}')\n",
    "# cust.first_name = 'Joe'\n",
    "# print(f'{cust.first_name !r}{cust.__dict__}')\n",
    "\n",
    "\n",
    "\n",
    "class Meta(type):\n",
    "  def __new__(meta,name,basses,attrs):\n",
    "    print('attrs',attrs)\n",
    "    for key,value in attrs.items():\n",
    "      if isinstance(value,Filed):\n",
    "        value.name = key\n",
    "        value.internal_name = '_' + key\n",
    "    cls = type.__new__(meta,name,basses,attrs)\n",
    "    return cls\n",
    "\n",
    "# class DatabaseRow(metaclass=Meta):\n",
    "#   pass\n",
    "\n",
    "class Filed:\n",
    "  \n",
    "  def __init__(self):\n",
    "    self.name = None\n",
    "    self.internal_name = None\n",
    "    \n",
    "  def __set__(self,instance,value):\n",
    "    setattr(instance,self.internal_name,value)\n",
    "    \n",
    "  def __get__(self,instance,cls):\n",
    "    if instance is None: return self\n",
    "    return getattr(instance,self.internal_name,'')\n",
    "\n",
    "class BetterCustomer(metaclass=Meta):\n",
    "  first_name = Filed()\n",
    "  last_name = Filed()\n",
    "  prefix  = Filed()\n",
    "  suffix = Filed()\n",
    "  \n",
    "cust = BetterCustomer()\n",
    "print(f'{cust.first_name !r}{cust.__dict__}')\n",
    "cust.first_name = 'Joe'\n",
    "print(f'{cust.first_name !r}{cust.__dict__}')\n",
    "\n"
   ]
  },
  {
   "cell_type": "code",
   "execution_count": null,
   "id": "13e43753",
   "metadata": {},
   "outputs": [],
   "source": [
    "class Filed:\n",
    "  \n",
    "  def __init__(self):\n",
    "    self.name = None\n",
    "    self.internal_name = None\n",
    "  \n",
    "  def __set_name__(self,owenr,name):\n",
    "    self.name = name\n",
    "    self.internal_name = '_' + name\n",
    "    \n",
    "  def __set__(self,instance,value):\n",
    "    setattr(instance,self.internal_name,value)\n",
    "    \n",
    "  def __get__(self,instance,cls):\n",
    "    if instance is None: return self\n",
    "    return getattr(instance,self.internal_name,'')\n",
    "\n",
    "class FixedCustom:\n",
    "  first_name = Filed()\n",
    "  last_name = Filed()\n",
    "  prefix  = Filed()\n",
    "  suffix = Filed()\n",
    "\n",
    "cust = FixedCustom()\n",
    "print(f'{cust.first_name !r}{cust.__dict__}')\n",
    "cust.first_name = 'Joe'\n",
    "print(f'{cust.first_name !r}{cust.__dict__}')\n",
    "\n",
    "  "
   ]
  },
  {
   "cell_type": "code",
   "execution_count": 4,
   "id": "4f25fbba",
   "metadata": {},
   "outputs": [
    {
     "data": {
      "text/plain": [
       "array('I', [65, 98, 99, 68, 70])"
      ]
     },
     "execution_count": 4,
     "metadata": {},
     "output_type": "execute_result"
    }
   ],
   "source": [
    "symbols = 'AbcDF'\n",
    "tuple(ord(symbol) for symbol in symbols)\n",
    "\n",
    "from array import array\n",
    "array('I',(ord(symbol) for symbol in symbols))"
   ]
  },
  {
   "cell_type": "code",
   "execution_count": 5,
   "id": "7f6f23dc",
   "metadata": {},
   "outputs": [
    {
     "name": "stdout",
     "output_type": "stream",
     "text": [
      "black S\n",
      "black M\n",
      "black L\n",
      "white S\n",
      "white M\n",
      "white L\n"
     ]
    }
   ],
   "source": [
    "colors = ['black','white']\n",
    "sizes = ['S','M','L']\n",
    "for tshirt in (f'{c} {s}' for c in colors for s in sizes):\n",
    "    print(tshirt)"
   ]
  },
  {
   "cell_type": "code",
   "execution_count": 7,
   "id": "ef12ef80",
   "metadata": {},
   "outputs": [
    {
     "name": "stdout",
     "output_type": "stream",
     "text": [
      "Tokyo\n"
     ]
    }
   ],
   "source": [
    "city, year, pop, chg, area = ('Tokyo','2003','32_450',0.66, 8014)\n",
    "print(city)"
   ]
  },
  {
   "cell_type": "code",
   "execution_count": 20,
   "id": "65680bd0",
   "metadata": {},
   "outputs": [
    {
     "data": {
      "text/plain": [
       "[1, 2, 3, 4, 5, 6, 7, 8]"
      ]
     },
     "execution_count": 20,
     "metadata": {},
     "output_type": "execute_result"
    }
   ],
   "source": [
    "a, *args, b=  range(10)\n",
    "args"
   ]
  },
  {
   "cell_type": "code",
   "execution_count": 24,
   "id": "89d9f31a",
   "metadata": {},
   "outputs": [
    {
     "name": "stdout",
     "output_type": "stream",
     "text": [
      "test1\n"
     ]
    }
   ],
   "source": [
    "metro_area = [('a', 'b', 3, (3,4)),]\n",
    "def main():\n",
    "    for record in metro_area:\n",
    "        match record:\n",
    "            case (name, _, _, (x, y)) if y < 5:\n",
    "                print('test1')\n",
    "main()\n"
   ]
  },
  {
   "cell_type": "code",
   "execution_count": 35,
   "id": "ac2cb217",
   "metadata": {},
   "outputs": [
    {
     "data": {
      "text/plain": [
       "slice"
      ]
     },
     "execution_count": 35,
     "metadata": {},
     "output_type": "execute_result"
    }
   ],
   "source": [
    "s = 'abcdef'\n",
    "# s[::3] # 'ad'\n",
    "\n",
    "type(slice(0,3))"
   ]
  },
  {
   "cell_type": "code",
   "execution_count": 61,
   "id": "11dc7e02",
   "metadata": {},
   "outputs": [
    {
     "ename": "TypeError",
     "evalue": "'tuple' object does not support item assignment",
     "output_type": "error",
     "traceback": [
      "\u001b[31m---------------------------------------------------------------------------\u001b[39m",
      "\u001b[31mTypeError\u001b[39m                                 Traceback (most recent call last)",
      "\u001b[36mCell\u001b[39m\u001b[36m \u001b[39m\u001b[32mIn[61]\u001b[39m\u001b[32m, line 2\u001b[39m\n\u001b[32m      1\u001b[39m t = (\u001b[32m1\u001b[39m,\u001b[32m2\u001b[39m,[\u001b[32m30\u001b[39m,\u001b[32m40\u001b[39m])\n\u001b[32m----> \u001b[39m\u001b[32m2\u001b[39m \u001b[43mt\u001b[49m\u001b[43m[\u001b[49m\u001b[32;43m2\u001b[39;49m\u001b[43m]\u001b[49m += [\u001b[32m50\u001b[39m,\u001b[32m60\u001b[39m]\n\u001b[32m      3\u001b[39m t\n",
      "\u001b[31mTypeError\u001b[39m: 'tuple' object does not support item assignment"
     ]
    }
   ],
   "source": [
    "t = (1,2,[30,40])\n",
    "t[2] += [50,60]\n",
    "t\n"
   ]
  },
  {
   "cell_type": "code",
   "execution_count": null,
   "id": "b1b18c36",
   "metadata": {},
   "outputs": [],
   "source": []
  }
 ],
 "metadata": {
  "kernelspec": {
   "display_name": "Python 3",
   "language": "python",
   "name": "python3"
  },
  "language_info": {
   "codemirror_mode": {
    "name": "ipython",
    "version": 3
   },
   "file_extension": ".py",
   "mimetype": "text/x-python",
   "name": "python",
   "nbconvert_exporter": "python",
   "pygments_lexer": "ipython3",
   "version": "3.12.2"
  }
 },
 "nbformat": 4,
 "nbformat_minor": 5
}
